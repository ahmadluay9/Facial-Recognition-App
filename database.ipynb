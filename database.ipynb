{
 "cells": [
  {
   "cell_type": "code",
   "execution_count": 8,
   "metadata": {},
   "outputs": [],
   "source": [
    "from database import *"
   ]
  },
  {
   "cell_type": "code",
   "execution_count": 30,
   "metadata": {},
   "outputs": [],
   "source": [
    "init_db()"
   ]
  },
  {
   "cell_type": "markdown",
   "metadata": {},
   "source": [
    "# Add Data into Table"
   ]
  },
  {
   "cell_type": "code",
   "execution_count": 27,
   "metadata": {},
   "outputs": [
    {
     "name": "stdout",
     "output_type": "stream",
     "text": [
      "Registration successful!\n",
      "{'status': 'success', 'message': 'Employee registered'}\n",
      "Contents of table 'Employees':\n",
      "    ID               Name                 Position       Department  \\\n",
      "0    1  Ezekiel Christian                  Auditor       Accounting   \n",
      "1    2     Vergil Cortney                Recruiter  Human Resources   \n",
      "2    3       Sharyn Xiang             Data Analyst             I.T.   \n",
      "3    4        Felix Brett        Transport Manager        Logistics   \n",
      "4    5   Annmarie Kathryn            Brand Manager        Marketing   \n",
      "5    6       Arline Ellis            Plant Manager       Production   \n",
      "6    7       Roxane Haven           Retail Manager            Sales   \n",
      "7    8      Conrad Buster                Architect            Works   \n",
      "8    9     Damian Gabriel           Data Scientist             I.T.   \n",
      "9   10    Clifton Griffin  Warehouse Administrator        Logistics   \n",
      "10  11         Lynda Lila               PR Officer        Marketing   \n",
      "11  12        Wilburn Guy               QC Manager       Production   \n",
      "12  13     Courtney Garry           Branch Manager            Sales   \n",
      "13  14    Yolanda Justina           Civil Engineer            Works   \n",
      "14  15       Colby Porter         Training Manager  Human Resources   \n",
      "\n",
      "               ImageID  \n",
      "0   1_EzekielChristian  \n",
      "1      2_VergilCortney  \n",
      "2        3_SharynXiang  \n",
      "3         4_FelixBrett  \n",
      "4    5_AnnmarieKathryn  \n",
      "5        6_ArlineEllis  \n",
      "6        7_RoxaneHaven  \n",
      "7       8_ConradBuster  \n",
      "8      9_DamianGabriel  \n",
      "9    10_CliftonGriffin  \n",
      "10        11_LyndaLila  \n",
      "11       12_WilburnGuy  \n",
      "12    13_CourtneyGarry  \n",
      "13   14_YolandaJustina  \n",
      "14      15_ColbyPorter  \n"
     ]
    }
   ],
   "source": [
    "register()\n",
    "print_table_contents('Employees')"
   ]
  },
  {
   "cell_type": "code",
   "execution_count": 31,
   "metadata": {},
   "outputs": [
    {
     "name": "stdout",
     "output_type": "stream",
     "text": [
      "Attendance recorded successfully!\n",
      "{'status': 'success', 'message': 'Attendance recorded'}\n"
     ]
    }
   ],
   "source": [
    "record_attendance()"
   ]
  },
  {
   "cell_type": "code",
   "execution_count": 32,
   "metadata": {},
   "outputs": [
    {
     "name": "stdout",
     "output_type": "stream",
     "text": [
      "Contents of table 'Attendance':\n",
      "   EmployeeID       EmployeeName        Date CheckInTime CheckOutTime\n",
      "0           1  Ezekiel Christian  2024-06-23    12:43:38         None\n"
     ]
    }
   ],
   "source": [
    "print_table_contents('Attendance')"
   ]
  },
  {
   "cell_type": "code",
   "execution_count": 33,
   "metadata": {},
   "outputs": [
    {
     "name": "stdout",
     "output_type": "stream",
     "text": [
      "Check-out time recorded successfully!\n",
      "None\n"
     ]
    }
   ],
   "source": [
    "record_check_out()"
   ]
  },
  {
   "cell_type": "code",
   "execution_count": 34,
   "metadata": {},
   "outputs": [
    {
     "name": "stdout",
     "output_type": "stream",
     "text": [
      "Contents of table 'Attendance':\n",
      "   EmployeeID       EmployeeName        Date CheckInTime CheckOutTime\n",
      "0           1  Ezekiel Christian  2024-06-23    12:43:38     12:43:50\n"
     ]
    }
   ],
   "source": [
    "print_table_contents('Attendance')"
   ]
  },
  {
   "cell_type": "markdown",
   "metadata": {},
   "source": [
    "# Drop Table"
   ]
  },
  {
   "cell_type": "code",
   "execution_count": 28,
   "metadata": {},
   "outputs": [
    {
     "name": "stdout",
     "output_type": "stream",
     "text": [
      "Table 'Attendance' has been dropped successfully.\n"
     ]
    }
   ],
   "source": [
    "# Example usage to drop the Employees table\n",
    "# drop_table('Employees')\n",
    "drop_table('Attendance')"
   ]
  },
  {
   "cell_type": "code",
   "execution_count": null,
   "metadata": {},
   "outputs": [],
   "source": []
  }
 ],
 "metadata": {
  "kernelspec": {
   "display_name": "venv",
   "language": "python",
   "name": "python3"
  },
  "language_info": {
   "codemirror_mode": {
    "name": "ipython",
    "version": 3
   },
   "file_extension": ".py",
   "mimetype": "text/x-python",
   "name": "python",
   "nbconvert_exporter": "python",
   "pygments_lexer": "ipython3",
   "version": "3.9.13"
  }
 },
 "nbformat": 4,
 "nbformat_minor": 2
}
